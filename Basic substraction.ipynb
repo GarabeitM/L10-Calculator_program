{
 "cells": [
  {
   "cell_type": "markdown",
   "metadata": {},
   "source": [
    "Simple Substraction:"
   ]
  },
  {
   "cell_type": "code",
   "execution_count": 1,
   "metadata": {},
   "outputs": [
    {
     "name": "stdout",
     "output_type": "stream",
     "text": [
      "3\n"
     ]
    }
   ],
   "source": [
    "a = input(\"Enter a number between 1 and 5\")\n",
    "b = input(\"Enter a number between 5 and 10\")\n",
    "c = (int(b) - int(a))\n",
    "if int(a) >=1 and int(a) <=5 and int(b) >=5 and int(b) <=10:\n",
    "    print(c)\n",
    "elif int(a) < 1:\n",
    "    print(\"a's value is smaller than expected.\")\n",
    "elif int(a) > 5: \n",
    "    print(\"a's value is larger than expected.\") \n",
    "else:\n",
    "    print(\"b is out of range\")"
   ]
  }
 ],
 "metadata": {
  "kernelspec": {
   "display_name": "Python 3.10.8 64-bit",
   "language": "python",
   "name": "python3"
  },
  "language_info": {
   "codemirror_mode": {
    "name": "ipython",
    "version": 3
   },
   "file_extension": ".py",
   "mimetype": "text/x-python",
   "name": "python",
   "nbconvert_exporter": "python",
   "pygments_lexer": "ipython3",
   "version": "3.10.8"
  },
  "orig_nbformat": 4,
  "vscode": {
   "interpreter": {
    "hash": "e593ac106456af50ce7af38f9671c411b49d6cd90f9b885e167f0f594e09038c"
   }
  }
 },
 "nbformat": 4,
 "nbformat_minor": 2
}
