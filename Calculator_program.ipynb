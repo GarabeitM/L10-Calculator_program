{
 "cells": [
  {
   "cell_type": "markdown",
   "metadata": {},
   "source": [
    "Task 1: Reading 3 variables (2 numbers and 1 operator)"
   ]
  },
  {
   "cell_type": "code",
   "execution_count": 1,
   "metadata": {},
   "outputs": [
    {
     "name": "stdout",
     "output_type": "stream",
     "text": [
      "Hey, Mary!\n"
     ]
    }
   ],
   "source": [
    "\n",
    "user_name = input(\"Welcome to Calcu, what's your name?\")\n",
    "print(\"Hey, \" + user_name + \"!\")\n",
    "\n",
    "var1 = input(\"Enter the first number that comes to your mind!\")\n",
    "var2 = input(\"Enter the second number that comes to your mind!\")\n",
    "op = input(\"Let's select an operator (+, -, *, /)!\")\n"
   ]
  },
  {
   "cell_type": "markdown",
   "metadata": {},
   "source": [
    "Task 2: Calculating and printing result"
   ]
  },
  {
   "cell_type": "code",
   "execution_count": 101,
   "metadata": {},
   "outputs": [
    {
     "name": "stdout",
     "output_type": "stream",
     "text": [
      "0.4\n"
     ]
    }
   ],
   "source": [
    "if op == \"+\":\n",
    "    print(int(var1) + int(var2))\n",
    "elif op == \"-\":\n",
    "    print(int(var1) - int(var2))\n",
    "elif op == \"*\":\n",
    "    print(int(var1) * int(var2))\n",
    "elif op == \"/\":\n",
    "    print(int(var1) / int(var2))\n",
    "else:\n",
    "    print(\"The operator you have selected is not supported!\")\n",
    "    op2 = input(\n",
    "        \"Please select another operator from the following list:(+, -, *, /)\")\n",
    "    if op2 == \"+\":\n",
    "        print(int(var1) + int(var2))\n",
    "    elif op2 == \"-\":\n",
    "        print(int(var1) - int(var2))\n",
    "    elif op2 == \"*\":\n",
    "        print(int(var1) * int(var2))\n",
    "    elif op2 == \"/\":\n",
    "        print(int(var1) / int(var2))\n",
    "    else:\n",
    "        print(\"Have a break, have a Kitkat!\")\n"
   ]
  },
  {
   "cell_type": "markdown",
   "metadata": {},
   "source": [
    "Task 3: Supporting floats"
   ]
  },
  {
   "cell_type": "code",
   "execution_count": null,
   "metadata": {},
   "outputs": [],
   "source": [
    "\n",
    "var1 = input(\"Enter the first number that comes to your mind!\")\n",
    "var2 = input(\"Enter the second number that comes to your mind!\")\n",
    "op = input(\"Let's select an operator: (+, -, *, /)!\")\n",
    "if op == \"+\":\n",
    "    print(float(var1) + float(var2))\n",
    "elif op == \"-\":\n",
    "    print(float(var1) - float(var2))\n",
    "elif op == \"*\":\n",
    "    print(float(var1) * float(var2))\n",
    "elif op == \"/\":\n",
    "    print(float(var1) / float(var2))\n",
    "else:\n",
    "    print(\"The operator you have selected is not supported!\")\n"
   ]
  },
  {
   "cell_type": "markdown",
   "metadata": {},
   "source": [
    "Task 4: Calculating the result with a function\n"
   ]
  },
  {
   "cell_type": "code",
   "execution_count": 104,
   "metadata": {},
   "outputs": [
    {
     "data": {
      "text/plain": [
       "0.7205298013245033"
      ]
     },
     "execution_count": 104,
     "metadata": {},
     "output_type": "execute_result"
    }
   ],
   "source": [
    "def Basic_arithmetic_operation(A, B, C):\n",
    "    if C == \"+\":\n",
    "        result = float(A) + float(B)\n",
    "        return result\n",
    "    elif C == \"-\":\n",
    "        result = float(A) - float(B)\n",
    "        return result\n",
    "    elif C == \"*\":\n",
    "        result = float(A) * float(B)\n",
    "        return result\n",
    "    elif C == \"/\":\n",
    "        result = float(A) / float(B)\n",
    "        return result\n",
    "    else:\n",
    "        print(\"The operator you have selected is not supported!\")\n",
    "\n",
    "\n",
    "var1 = input(\"Enter the first number that comes to your mind!\")\n",
    "var2 = input(\"Enter the second number that comes to your mind!\")\n",
    "op = input(\"Let's select an operator: (+, -, *, /)!\")\n",
    "Basic_arithmetic_operation(var1, var2, op)\n"
   ]
  },
  {
   "cell_type": "markdown",
   "metadata": {},
   "source": [
    "Task 4: Trying division by zero"
   ]
  },
  {
   "cell_type": "code",
   "execution_count": 3,
   "metadata": {},
   "outputs": [
    {
     "ename": "ZeroDivisionError",
     "evalue": "float division by zero",
     "output_type": "error",
     "traceback": [
      "\u001b[1;31m---------------------------------------------------------------------------\u001b[0m",
      "\u001b[1;31mZeroDivisionError\u001b[0m                         Traceback (most recent call last)",
      "Cell \u001b[1;32mIn [3], line 7\u001b[0m\n\u001b[0;32m      3\u001b[0m     \u001b[39mreturn\u001b[39;00m result\n\u001b[0;32m      6\u001b[0m A \u001b[39m=\u001b[39m \u001b[39mfloat\u001b[39m(\u001b[39minput\u001b[39m(\u001b[39m\"\u001b[39m\u001b[39mEnter random number\u001b[39m\u001b[39m\"\u001b[39m))\n\u001b[1;32m----> 7\u001b[0m devision_by_Zero(A)\n",
      "Cell \u001b[1;32mIn [3], line 2\u001b[0m, in \u001b[0;36mdevision_by_Zero\u001b[1;34m(var1)\u001b[0m\n\u001b[0;32m      1\u001b[0m \u001b[39mdef\u001b[39;00m \u001b[39mdevision_by_Zero\u001b[39m(var1):\n\u001b[1;32m----> 2\u001b[0m     result \u001b[39m=\u001b[39m var1\u001b[39m/\u001b[39;49m\u001b[39m0\u001b[39;49m\n\u001b[0;32m      3\u001b[0m     \u001b[39mreturn\u001b[39;00m result\n",
      "\u001b[1;31mZeroDivisionError\u001b[0m: float division by zero"
     ]
    }
   ],
   "source": [
    "def devision_by_Zero(var1):\n",
    "    result = var1/0\n",
    "    return result\n",
    "\n",
    "\n",
    "A = float(input(\"Enter random number\"))\n",
    "devision_by_Zero(A)\n"
   ]
  },
  {
   "cell_type": "markdown",
   "metadata": {},
   "source": [
    "Task 4: Writing a new function for operaions with zero"
   ]
  },
  {
   "cell_type": "code",
   "execution_count": null,
   "metadata": {},
   "outputs": [
    {
     "data": {
      "text/plain": [
       "False"
      ]
     },
     "execution_count": 85,
     "metadata": {},
     "output_type": "execute_result"
    }
   ],
   "source": [
    "def Operations_with_zero(var1, var2, op):\n",
    "    if var2 != 0 and op == \"+\":\n",
    "        result = var1+var2\n",
    "        return result\n",
    "    elif var2 != 0 and op == \"-\":\n",
    "        result = var1-var2\n",
    "        return result\n",
    "    elif var2 != 0 and op == \"*\":\n",
    "        result = var1*var2\n",
    "        return result\n",
    "    elif var2 != 0 and op == \"/\":\n",
    "        result = var1/var2\n",
    "        return result\n",
    "    else:\n",
    "        return 0\n",
    "\n",
    "\n",
    "A = float(input(\"Enter a random number\"))\n",
    "B = float(input(\"Enter another random number\"))\n",
    "C = input(\"Let's select an operator (+, -, *, /)!\")\n",
    "\n",
    "bool(Operations_with_zero(A, B, C))\n"
   ]
  },
  {
   "cell_type": "markdown",
   "metadata": {},
   "source": [
    "Task 5: Adding Modulo to the options of operator"
   ]
  },
  {
   "cell_type": "code",
   "execution_count": null,
   "metadata": {},
   "outputs": [],
   "source": [
    "user_name = input(\"Welcome to Calcu, what's your name? \")\n",
    "print(\"Hey, \" + user_name + \"!\")\n",
    "\n",
    "var1 = input(\"Enter the first number that comes to your mind!\")\n",
    "var2 = input(\"Enter the second number that comes to your mind!\")\n",
    "op = input(\"Let's select an operator (+, -, *, /, %)!\")\n",
    "\n",
    "if op == \"+\":\n",
    "    print(float(var1) + float(var2))\n",
    "elif op == \"-\":\n",
    "    print(float(var1) - float(var2))\n",
    "elif op == \"*\":\n",
    "    print(float(var1) * float(var2))\n",
    "elif op == \"/\":\n",
    "    print(float(var1) / float(var2))\n",
    "elif op == \"%\":\n",
    "    print(float(var1) % float(var2))\n",
    "else:\n",
    "    print(\"The operator you selected is not supported!\")\n"
   ]
  },
  {
   "cell_type": "markdown",
   "metadata": {},
   "source": [
    "Task 6: Rounding the final result to 3 decimal places"
   ]
  },
  {
   "cell_type": "code",
   "execution_count": null,
   "metadata": {},
   "outputs": [
    {
     "name": "stdout",
     "output_type": "stream",
     "text": [
      "Hey, Mary!\n",
      "565\n",
      "54545\n",
      "0.01\n",
      "Rounding was applied!\n"
     ]
    }
   ],
   "source": [
    "user_name = input(\"Welcome to Calcu, what's your name? \")\n",
    "print(\"Hey, \" + user_name + \"!\")\n",
    "\n",
    "var1 = input(\"Enter the first number that comes to your mind!\")\n",
    "print(var1)\n",
    "var2 = input(\"Enter the second number that comes to your mind!\")\n",
    "print(var2)\n",
    "op = input(\"Let's select an operator (+, -, *, /, %)!\")\n",
    "\n",
    "if op == \"+\":\n",
    "    result = (float(var1) + float(var2))\n",
    "elif op == \"-\":\n",
    "    result = (float(var1) - float(var2))\n",
    "elif op == \"*\":\n",
    "    result = (float(var1) * float(var2))\n",
    "elif op == \"/\":\n",
    "    result = (float(var1) / float(var2))\n",
    "elif op == \"%\":\n",
    "    result = (float(var1) % float(var2))\n",
    "else:\n",
    "    print(\"The operator you selected is not supported!\")\n",
    "\n",
    "print(round(result, 3))\n",
    "\n",
    "N_decimal_places = str(result)[::-1].find('.')\n",
    "\n",
    "if N_decimal_places > 3:\n",
    "    print(\"Rounding was applied!\")\n"
   ]
  }
 ],
 "metadata": {
  "kernelspec": {
   "display_name": "Python 3.10.8 64-bit",
   "language": "python",
   "name": "python3"
  },
  "language_info": {
   "codemirror_mode": {
    "name": "ipython",
    "version": 3
   },
   "file_extension": ".py",
   "mimetype": "text/x-python",
   "name": "python",
   "nbconvert_exporter": "python",
   "pygments_lexer": "ipython3",
   "version": "3.10.8"
  },
  "orig_nbformat": 4,
  "vscode": {
   "interpreter": {
    "hash": "e593ac106456af50ce7af38f9671c411b49d6cd90f9b885e167f0f594e09038c"
   }
  }
 },
 "nbformat": 4,
 "nbformat_minor": 2
}
